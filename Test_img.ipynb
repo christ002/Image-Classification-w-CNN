{
 "cells": [
  {
   "cell_type": "code",
   "execution_count": 1,
   "metadata": {},
   "outputs": [],
   "source": [
    "import os\n",
    "import cv2\n",
    "import numpy as np\n",
    "from tensorflow.keras.models import load_model\n",
    "from PIL import Image\n",
    "from tensorflow.keras.preprocessing import image\n",
    "\n",
    "\n",
    "# Inspired by: https://stackoverflow.com/questions/37058236/load-checkpoint-and-evaluate-single-image-with-tensorflow-dnn\n",
    "\n",
    "model = load_model('mitral_valve_model.h5')\n",
    "\n",
    "\n",
    "def test_on_img(img_path):\n",
    "    im = Image.open(img_path)\n",
    "    \n",
    "    # Resizing the image to the same dimensions as was done in the preprocessing part\n",
    "    im = im.resize((224,224))\n",
    "    im = np.array(im)\n",
    "    im = np.expand_dims(im, axis=0)\n",
    "    im = im/255.  \n",
    "    \n",
    "    # predict probability on image from image path\n",
    "    pred = model.predict_proba(im)\n",
    "    \n",
    "    \n",
    "    # Extract sublist from nested list\n",
    "    pred = [item for sublist in pred for item in sublist]\n",
    "    target_names = ['Closed_Valve' , 'Open_Valve ']\n",
    "    for i in range(len(pred)):\n",
    "        print(\"Predicted {} with {} probability\" .format(target_names[i] , (str(pred[i])[0:5])))\n",
    "        print(\"\\n\")"
   ]
  },
  {
   "cell_type": "code",
   "execution_count": 2,
   "metadata": {},
   "outputs": [
    {
     "name": "stdout",
     "output_type": "stream",
     "text": [
      "Predicted Closed_Valve with 0.818 probability\n",
      "\n",
      "\n",
      "Predicted Open_Valve  with 0.181 probability\n",
      "\n",
      "\n"
     ]
    }
   ],
   "source": [
    "rel_path = r\"C:\\Users\\chris\\Documents\\UiB\\MAT262\\Prosjekt\\data\\TEST_IMG\\framexx5.jpg\"\n",
    "\n",
    "test_on_img(rel_path)"
   ]
  },
  {
   "cell_type": "code",
   "execution_count": null,
   "metadata": {},
   "outputs": [],
   "source": []
  }
 ],
 "metadata": {
  "kernelspec": {
   "display_name": "Python 3",
   "language": "python",
   "name": "python3"
  },
  "language_info": {
   "codemirror_mode": {
    "name": "ipython",
    "version": 3
   },
   "file_extension": ".py",
   "mimetype": "text/x-python",
   "name": "python",
   "nbconvert_exporter": "python",
   "pygments_lexer": "ipython3",
   "version": "3.7.4"
  }
 },
 "nbformat": 4,
 "nbformat_minor": 2
}
